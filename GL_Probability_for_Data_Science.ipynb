{
  "nbformat": 4,
  "nbformat_minor": 0,
  "metadata": {
    "colab": {
      "provenance": [],
      "authorship_tag": "ABX9TyNwSCuQ9KHXMavlqnFBjaLs",
      "include_colab_link": true
    },
    "kernelspec": {
      "name": "python3",
      "display_name": "Python 3"
    },
    "language_info": {
      "name": "python"
    }
  },
  "cells": [
    {
      "cell_type": "markdown",
      "metadata": {
        "id": "view-in-github",
        "colab_type": "text"
      },
      "source": [
        "<a href=\"https://colab.research.google.com/github/otionrec/.github-workflows/blob/master/GL_Probability_for_Data_Science.ipynb\" target=\"_parent\"><img src=\"https://colab.research.google.com/assets/colab-badge.svg\" alt=\"Open In Colab\"/></a>"
      ]
    },
    {
      "cell_type": "code",
      "source": [
        "# How to calculate factorial in Python\n",
        "import math\n",
        "\n",
        "math.factorial(6)\n"
      ],
      "metadata": {
        "id": "fYqOnCFKeS9I",
        "colab": {
          "base_uri": "https://localhost:8080/"
        },
        "outputId": "bdef8d2f-3cd7-4ec4-b3a2-d89dd063f361"
      },
      "execution_count": null,
      "outputs": [
        {
          "output_type": "execute_result",
          "data": {
            "text/plain": [
              "720"
            ]
          },
          "metadata": {},
          "execution_count": 24
        }
      ]
    },
    {
      "cell_type": "code",
      "source": [
        "# How to pick a random element in python\n",
        "\n",
        "from random import choice\n",
        "choice(['apple', 'orange', 'banana'])"
      ],
      "metadata": {
        "colab": {
          "base_uri": "https://localhost:8080/",
          "height": 35
        },
        "id": "OdcXQkOfet-N",
        "outputId": "e3844239-66d5-4678-c6b5-d19b57bf6e5b"
      },
      "execution_count": null,
      "outputs": [
        {
          "output_type": "execute_result",
          "data": {
            "text/plain": [
              "'apple'"
            ],
            "application/vnd.google.colaboratory.intrinsic+json": {
              "type": "string"
            }
          },
          "metadata": {},
          "execution_count": 25
        }
      ]
    },
    {
      "cell_type": "code",
      "source": [
        "import numpy as np\n",
        "\n",
        "rand = np.random.random_sample((4,4))\n",
        "\n",
        "rand"
      ],
      "metadata": {
        "colab": {
          "base_uri": "https://localhost:8080/"
        },
        "id": "fghTIObckNve",
        "outputId": "287cfda1-c796-41d8-c038-cbffb69edcc5"
      },
      "execution_count": null,
      "outputs": [
        {
          "output_type": "execute_result",
          "data": {
            "text/plain": [
              "array([[0.91182885, 0.81145574, 0.77295941, 0.00424266],\n",
              "       [0.7551639 , 0.69384029, 0.88024813, 0.68797108],\n",
              "       [0.21854911, 0.39287933, 0.29022186, 0.25573429],\n",
              "       [0.72770488, 0.72388719, 0.62836482, 0.98096846]])"
            ]
          },
          "metadata": {},
          "execution_count": 27
        }
      ]
    },
    {
      "cell_type": "code",
      "source": [
        "# There is a statistic Module in python with which you can do a lot\n",
        "import statistics\n",
        "\n",
        "print(statistics.mean([1, 2, 3, 4, 4]))\n",
        "print(statistics.median([1, 2, 3, 4, 4]))\n",
        "print(statistics.mode([1, 2, 3, 3, 4]))\n",
        "print(statistics.stdev([1, 2, 3, 4, 4]))"
      ],
      "metadata": {
        "colab": {
          "base_uri": "https://localhost:8080/"
        },
        "id": "69ZCtHSknWne",
        "outputId": "b653241a-33e2-45bd-87fd-722e45dab6c3"
      },
      "execution_count": null,
      "outputs": [
        {
          "output_type": "stream",
          "name": "stdout",
          "text": [
            "2.8\n",
            "3\n",
            "3\n",
            "1.3038404810405297\n"
          ]
        }
      ]
    },
    {
      "cell_type": "code",
      "source": [
        "# working withn fractions\n",
        "from fractions import Fraction as F\n",
        "\n",
        "print(F(1, 2))\n",
        "\n",
        "print(F(1, 2) + F(3, 4))\n",
        "\n",
        "print(\"Mean:\", statistics.mean((F(1, 2), F(3, 4))))\n",
        "\n",
        "print(\"Mean:\", statistics.mean([F(1, 2), F(3, 4)]))"
      ],
      "metadata": {
        "colab": {
          "base_uri": "https://localhost:8080/"
        },
        "id": "UGe0hxM_nuxI",
        "outputId": "b4b3ed5f-b4c7-44d7-ad99-93b7d3b26b77"
      },
      "execution_count": null,
      "outputs": [
        {
          "output_type": "stream",
          "name": "stdout",
          "text": [
            "1/2\n",
            "5/4\n",
            "Mean: 5/8\n",
            "Mean: 5/8\n"
          ]
        }
      ]
    },
    {
      "cell_type": "code",
      "source": [
        "# Creating a Probability function in Python\n",
        "# It is a simple 2 linear code that helps immensely\n",
        "\n",
        "from fractions import Fraction\n",
        "def Prob(event, sampSpace):\n",
        "  return Fraction(len(event & sampSpace), len(sampSpace))\n"
      ],
      "metadata": {
        "id": "pGdsUt2Urudw"
      },
      "execution_count": null,
      "outputs": []
    },
    {
      "cell_type": "code",
      "source": [
        "# Rolling a fair die\n",
        "Die = {1, 2, 3, 4, 5, 6}\n",
        "\n",
        "# Getting an odd number\n",
        "odd = {1, 3, 5}\n",
        "\n",
        "Prob(odd, Die)\n"
      ],
      "metadata": {
        "colab": {
          "base_uri": "https://localhost:8080/"
        },
        "id": "KHYBpj-xtaoL",
        "outputId": "a8601281-51af-4955-9fa3-095a7f633807"
      },
      "execution_count": null,
      "outputs": [
        {
          "output_type": "execute_result",
          "data": {
            "text/plain": [
              "Fraction(1, 2)"
            ]
          },
          "metadata": {},
          "execution_count": 61
        }
      ]
    },
    {
      "cell_type": "code",
      "source": [
        "# Coin Flip Example\n",
        "\n",
        "prob = 0.5\n",
        "num_flips = 10\n",
        "\n",
        "flipData = np.arange(num_flips)\n",
        "\n",
        "#print(flipData)\n",
        "\n",
        "def coinFlip(prob):\n",
        "  # Binomial distribution (returns either 0 or 1)\n",
        "  return np.random.binomial(1, prob)\n",
        "\n",
        "# Flipping the coin as many times as set\n",
        "for i in flipData:\n",
        "  flipData[i] = coinFlip(prob)\n",
        "  #i+=1\n",
        "\n",
        "print(\"Probability is set to be\", prob)\n",
        "print(\"Tails denoted as 0, Heads as 1\", flipData)\n",
        "print(\"Total number of Heads: \", np.count_nonzero(flipData == 1))\n",
        "print(\"Total number of Tails: \", np.count_nonzero(flipData == 0))\n"
      ],
      "metadata": {
        "colab": {
          "base_uri": "https://localhost:8080/"
        },
        "id": "DgEzANqfvauG",
        "outputId": "9b9c1bd9-141d-4454-87dd-248dfe8d197b"
      },
      "execution_count": null,
      "outputs": [
        {
          "output_type": "stream",
          "name": "stdout",
          "text": [
            "Probability is set to be 0.5\n",
            "Tails denoted as 0, Heads as 1 [0 0 0 0 0 0 1 0 0 0]\n",
            "Total number of Heads:  1\n",
            "Total number of Tails:  9\n"
          ]
        }
      ]
    }
  ]
}